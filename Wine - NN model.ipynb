{
 "cells": [
  {
   "cell_type": "code",
   "execution_count": 18,
   "metadata": {
    "colab": {},
    "colab_type": "code",
    "id": "M37WSo5iFP0I"
   },
   "outputs": [],
   "source": [
    "# import libraries\n",
    "\n",
    "import pandas as pd\n",
    "import numpy as np\n",
    "import matplotlib.pyplot as plt\n",
    "import seaborn as sns\n",
    "\n",
    "import tensorflow as tf\n",
    "from keras.models import Sequential\n",
    "from keras.layers import Dense\n",
    "from sklearn.metrics import confusion_matrix\n",
    "from sklearn import preprocessing\n",
    "from sklearn.model_selection import train_test_split\n",
    "\n",
    "from numpy.random import seed # for reproducible results\n",
    "seed(1)\n",
    "from tensorflow import set_random_seed # TensorFlow has its own random number generator\n",
    "set_random_seed(2)"
   ]
  },
  {
   "cell_type": "code",
   "execution_count": 2,
   "metadata": {
    "colab": {},
    "colab_type": "code",
    "id": "Pb4aeVrxl3Q0"
   },
   "outputs": [],
   "source": [
    "# read data\n",
    "df = pd.read_csv('wineQualityReds.csv')\n",
    "\n",
    "# deletes first column\n",
    "df.drop(df.columns[0],1, inplace=True)"
   ]
  },
  {
   "cell_type": "code",
   "execution_count": 3,
   "metadata": {
    "colab": {
     "base_uri": "https://localhost:8080/",
     "height": 153
    },
    "colab_type": "code",
    "id": "xI_vS0SAl4sn",
    "outputId": "6c053194-7bb5-41ba-ade9-a48c6a6e091f"
   },
   "outputs": [
    {
     "name": "stdout",
     "output_type": "stream",
     "text": [
      "5    681\n",
      "6    638\n",
      "7    199\n",
      "4     53\n",
      "8     18\n",
      "3     10\n",
      "Name: quality, dtype: int64\n",
      "(1599,)\n"
     ]
    }
   ],
   "source": [
    "print(df['quality'].value_counts())\n",
    "print(df['quality'].shape)"
   ]
  },
  {
   "cell_type": "markdown",
   "metadata": {
    "colab_type": "text",
    "id": "KAhLI-XbmRBN"
   },
   "source": [
    "\n",
    "*   The dataset is very imbalanced\n",
    "*   Most of the target values are 5\n",
    "*   Only 10 observations are of class 3"
   ]
  },
  {
   "cell_type": "code",
   "execution_count": 4,
   "metadata": {
    "colab": {
     "base_uri": "https://localhost:8080/",
     "height": 255
    },
    "colab_type": "code",
    "id": "dtCdhgoHJhHe",
    "outputId": "8a5addfc-f53e-44c8-e3b2-7c1886b707cd"
   },
   "outputs": [
    {
     "name": "stdout",
     "output_type": "stream",
     "text": [
      "      fixed.acidity  volatile.acidity  citric.acid  residual.sugar  chlorides  \\\n",
      "0               7.4             0.700         0.00             1.9      0.076   \n",
      "1               7.8             0.880         0.00             2.6      0.098   \n",
      "2               7.8             0.760         0.04             2.3      0.092   \n",
      "3              11.2             0.280         0.56             1.9      0.075   \n",
      "4               7.4             0.700         0.00             1.9      0.076   \n",
      "...             ...               ...          ...             ...        ...   \n",
      "1594            6.2             0.600         0.08             2.0      0.090   \n",
      "1595            5.9             0.550         0.10             2.2      0.062   \n",
      "1596            6.3             0.510         0.13             2.3      0.076   \n",
      "1597            5.9             0.645         0.12             2.0      0.075   \n",
      "1598            6.0             0.310         0.47             3.6      0.067   \n",
      "\n",
      "      free.sulfur.dioxide  total.sulfur.dioxide  density    pH  sulphates  \\\n",
      "0                    11.0                  34.0  0.99780  3.51       0.56   \n",
      "1                    25.0                  67.0  0.99680  3.20       0.68   \n",
      "2                    15.0                  54.0  0.99700  3.26       0.65   \n",
      "3                    17.0                  60.0  0.99800  3.16       0.58   \n",
      "4                    11.0                  34.0  0.99780  3.51       0.56   \n",
      "...                   ...                   ...      ...   ...        ...   \n",
      "1594                 32.0                  44.0  0.99490  3.45       0.58   \n",
      "1595                 39.0                  51.0  0.99512  3.52       0.76   \n",
      "1596                 29.0                  40.0  0.99574  3.42       0.75   \n",
      "1597                 32.0                  44.0  0.99547  3.57       0.71   \n",
      "1598                 18.0                  42.0  0.99549  3.39       0.66   \n",
      "\n",
      "      alcohol  quality  \n",
      "0         9.4        5  \n",
      "1         9.8        5  \n",
      "2         9.8        5  \n",
      "3         9.8        6  \n",
      "4         9.4        5  \n",
      "...       ...      ...  \n",
      "1594     10.5        5  \n",
      "1595     11.2        6  \n",
      "1596     11.0        6  \n",
      "1597     10.2        5  \n",
      "1598     11.0        6  \n",
      "\n",
      "[1599 rows x 12 columns]\n"
     ]
    }
   ],
   "source": [
    "# shows the dataframe\n",
    "print(df)\n",
    "\n",
    "# define X and y\n",
    "X = df.drop('quality',1)\n",
    "y = df.quality"
   ]
  },
  {
   "cell_type": "code",
   "execution_count": 5,
   "metadata": {
    "colab": {
     "base_uri": "https://localhost:8080/",
     "height": 136
    },
    "colab_type": "code",
    "id": "eJq8jDG4ptIC",
    "outputId": "899998c7-560b-4da5-a7df-cf776e90a308"
   },
   "outputs": [
    {
     "name": "stdout",
     "output_type": "stream",
     "text": [
      "7    681\n",
      "5    681\n",
      "3    681\n",
      "8    681\n",
      "6    681\n",
      "4    681\n",
      "Name: quality, dtype: int64\n"
     ]
    }
   ],
   "source": [
    "from imblearn.over_sampling import SMOTE\n",
    "\n",
    "# stops annoying warning\n",
    "import warnings\n",
    "warnings.filterwarnings(\"ignore\")\n",
    "\n",
    "# save name of columns\n",
    "feature_columns = X.columns\n",
    "\n",
    "# implements smote\n",
    "sm = SMOTE()\n",
    "X_res, y_res = sm.fit_resample(X, y)\n",
    "\n",
    "X_res = pd.DataFrame(X_res, columns=feature_columns)\n",
    "y_res = pd.DataFrame(y_res, columns=['quality'])\n",
    "print(y_res['quality'].value_counts())"
   ]
  },
  {
   "cell_type": "code",
   "execution_count": 6,
   "metadata": {
    "colab": {
     "base_uri": "https://localhost:8080/",
     "height": 255
    },
    "colab_type": "code",
    "id": "WMh8B3SdOQfE",
    "outputId": "e9dacd11-b030-4c36-cbe6-0c02b15b9d35"
   },
   "outputs": [
    {
     "name": "stdout",
     "output_type": "stream",
     "text": [
      "      fixed.acidity  volatile.acidity  citric.acid  residual.sugar  chlorides  \\\n",
      "0         -0.595650          0.466480    -1.360659       -0.579236  -0.288855   \n",
      "1         -0.350979          1.194378    -1.360659       -0.018798   0.177537   \n",
      "2         -0.350979          0.709113    -1.162606       -0.258986   0.050339   \n",
      "3          1.728725         -1.231950     1.412090       -0.579236  -0.310055   \n",
      "4         -0.595650          0.466480    -1.360659       -0.579236  -0.288855   \n",
      "...             ...               ...          ...             ...        ...   \n",
      "4081       0.081626         -0.503384     0.489959       -0.715048  -0.413763   \n",
      "4082       1.219326         -0.077836     1.551205        1.479950  -0.221553   \n",
      "4083      -0.001834         -0.888936     0.614400       -0.464456  -0.639306   \n",
      "4084      -0.040895         -0.443840     0.618314       -0.033699  -0.265850   \n",
      "4085       1.933832         -1.069235     1.778522       -0.404618  -0.364973   \n",
      "\n",
      "      free.sulfur.dioxide  total.sulfur.dioxide   density        pH  \\\n",
      "0               -0.229056             -0.076377  0.683938  1.202509   \n",
      "1                1.233244              1.096481  0.139400 -0.820325   \n",
      "2                0.188744              0.634446  0.248307 -0.428809   \n",
      "3                0.397644              0.847693  0.792846 -1.081336   \n",
      "4               -0.229056             -0.076377  0.683938  1.202509   \n",
      "...                   ...                   ...       ...       ...   \n",
      "4081             1.945814              1.514077 -1.497398 -0.971892   \n",
      "4082            -0.537435             -0.528634  0.723014 -0.674974   \n",
      "4083            -0.015073             -0.254082 -0.523346 -1.119738   \n",
      "4084            -0.599079             -0.680576 -1.685491 -0.908838   \n",
      "4085            -0.516063             -0.290467  0.671193 -2.427443   \n",
      "\n",
      "      sulphates   alcohol  \n",
      "0     -0.607111 -1.126661  \n",
      "1      0.132364 -0.782956  \n",
      "2     -0.052505 -0.782956  \n",
      "3     -0.483866 -0.782956  \n",
      "4     -0.607111 -1.126661  \n",
      "...         ...       ...  \n",
      "4081   0.221470  1.256238  \n",
      "4082   0.292125  1.899861  \n",
      "4083   0.705512  0.226488  \n",
      "4084   0.713214  1.726255  \n",
      "4085   0.843680 -0.501466  \n",
      "\n",
      "[4086 rows x 11 columns]\n"
     ]
    }
   ],
   "source": [
    "scaler = preprocessing.StandardScaler()\n",
    "X_normalized = scaler.fit_transform(X_res)\n",
    "X_normalized = pd.DataFrame(X_normalized, columns=feature_columns)\n",
    "\n",
    "print(X_normalized)"
   ]
  },
  {
   "cell_type": "code",
   "execution_count": 7,
   "metadata": {
    "colab": {
     "base_uri": "https://localhost:8080/",
     "height": 370
    },
    "colab_type": "code",
    "id": "Uj87isYb4pZD",
    "outputId": "a75b65c8-53e5-4587-bee1-69f13041737f"
   },
   "outputs": [
    {
     "data": {
      "text/plain": [
       "<matplotlib.axes._subplots.AxesSubplot at 0x2432bf12a48>"
      ]
     },
     "execution_count": 7,
     "metadata": {},
     "output_type": "execute_result"
    },
    {
     "data": {
      "image/png": "[encoded data removed]",
      "text/plain": [
       "<Figure size 432x288 with 2 Axes>"
      ]
     },
     "metadata": {
      "needs_background": "light"
     },
     "output_type": "display_data"
    }
   ],
   "source": [
    "# visualize correlations\n",
    "corr = X_normalized.join(y_res).corr()\n",
    "sns.heatmap(corr, cmap='coolwarm_r', annot_kws={'size':20})"
   ]
  },
  {
   "cell_type": "markdown",
   "metadata": {
    "colab_type": "text",
    "id": "C9mjF-J666lL"
   },
   "source": [
    "There is a very subtle correlation between quality and the features.\n",
    "\n",
    "*   **Negative correlation:** volatile acidity, chlorides\n",
    "*   **Positive correlation:** citric acid\n",
    "\n"
   ]
  },
  {
   "cell_type": "code",
   "execution_count": 8,
   "metadata": {
    "colab": {
     "base_uri": "https://localhost:8080/",
     "height": 68
    },
    "colab_type": "code",
    "id": "EEJoGRmlasCc",
    "outputId": "afaa2765-0b68-4a2c-a3e0-42de114476e9"
   },
   "outputs": [
    {
     "name": "stdout",
     "output_type": "stream",
     "text": [
      "(3064, 11)\n",
      "(3064, 6)\n",
      "      3  4  5  6  7  8\n",
      "771   0  0  1  0  0  0\n",
      "2776  0  1  0  0  0  0\n",
      "4034  0  0  0  0  0  1\n",
      "1520  0  0  0  1  0  0\n",
      "3948  0  0  0  0  0  1\n",
      "...  .. .. .. .. .. ..\n",
      "2412  0  1  0  0  0  0\n",
      "2810  0  1  0  0  0  0\n",
      "457   0  0  1  0  0  0\n",
      "3605  0  0  0  0  0  1\n",
      "1992  1  0  0  0  0  0\n",
      "\n",
      "[3064 rows x 6 columns]\n"
     ]
    }
   ],
   "source": [
    "# one-hot encoding\n",
    "y_cat = pd.get_dummies(y_res['quality'])\n",
    "\n",
    "# separate data into train and test\n",
    "X_train, X_test, y_train, y_test = train_test_split(X_normalized,y_cat)\n",
    "\n",
    "\n",
    "print(X_train.shape)\n",
    "print(y_train.shape)\n",
    "\n",
    "# now y_train is a matrix\n",
    "print(y_train)"
   ]
  },
  {
   "cell_type": "markdown",
   "metadata": {
    "colab_type": "text",
    "id": "0FeDrQUbi5kV"
   },
   "source": [
    "Steps for building neural network:\n",
    "\n",
    "1.   Build model (keras.Sequential)\n",
    "2.   Compile model (model.compile)\n",
    "3.   Fit model (model.fit)\n",
    "\n",
    "\n",
    "\n"
   ]
  },
  {
   "cell_type": "code",
   "execution_count": 9,
   "metadata": {
    "colab": {},
    "colab_type": "code",
    "id": "Jp96-83EbKqZ"
   },
   "outputs": [
    {
     "name": "stdout",
     "output_type": "stream",
     "text": [
      "WARNING:tensorflow:From C:\\Users\\Usuario\\anaconda3\\lib\\site-packages\\tensorflow\\python\\ops\\resource_variable_ops.py:435: colocate_with (from tensorflow.python.framework.ops) is deprecated and will be removed in a future version.\n",
      "Instructions for updating:\n",
      "Colocations handled automatically by placer.\n"
     ]
    }
   ],
   "source": [
    "n_inputs = X_train.shape[1]\n",
    "\n",
    "model = Sequential()\n",
    "\n",
    "model.add(Dense(units=n_inputs, activation=\"relu\", input_shape=(n_inputs, )))\n",
    "model.add(Dense(units=100, activation=\"relu\"))\n",
    "model.add(Dense(units=100, activation=\"relu\"))\n",
    "model.add(Dense(units=6, activation=\"softmax\"))"
   ]
  },
  {
   "cell_type": "code",
   "execution_count": 10,
   "metadata": {
    "colab": {},
    "colab_type": "code",
    "id": "sAhspbfYcyxj"
   },
   "outputs": [],
   "source": [
    "model.compile(optimizer='adam',\n",
    "              loss='categorical_crossentropy',\n",
    "              metrics=['accuracy'])"
   ]
  },
  {
   "cell_type": "code",
   "execution_count": 11,
   "metadata": {
    "colab": {
     "base_uri": "https://localhost:8080/",
     "height": 1000
    },
    "colab_type": "code",
    "id": "f4UiE9txc2gl",
    "outputId": "6c912469-db79-40f1-cc65-ce145ef62301"
   },
   "outputs": [
    {
     "name": "stdout",
     "output_type": "stream",
     "text": [
      "WARNING:tensorflow:From C:\\Users\\Usuario\\anaconda3\\lib\\site-packages\\tensorflow\\python\\ops\\math_ops.py:3066: to_int32 (from tensorflow.python.ops.math_ops) is deprecated and will be removed in a future version.\n",
      "Instructions for updating:\n",
      "Use tf.cast instead.\n",
      "Train on 3064 samples, validate on 1022 samples\n",
      "Epoch 1/100\n",
      "3064/3064 [==============================] - 0s 92us/step - loss: 1.3792 - accuracy: 0.4429 - val_loss: 1.1756 - val_accuracy: 0.4932\n",
      "Epoch 2/100\n",
      "3064/3064 [==============================] - 0s 44us/step - loss: 1.0640 - accuracy: 0.5565 - val_loss: 1.0851 - val_accuracy: 0.5147\n",
      "Epoch 3/100\n",
      "3064/3064 [==============================] - 0s 37us/step - loss: 0.9852 - accuracy: 0.5849 - val_loss: 1.0118 - val_accuracy: 0.5587\n",
      "Epoch 4/100\n",
      "3064/3064 [==============================] - 0s 36us/step - loss: 0.9296 - accuracy: 0.6074 - val_loss: 0.9451 - val_accuracy: 0.6018\n",
      "Epoch 5/100\n",
      "3064/3064 [==============================] - 0s 36us/step - loss: 0.8792 - accuracy: 0.6292 - val_loss: 0.9067 - val_accuracy: 0.6155\n",
      "Epoch 6/100\n",
      "3064/3064 [==============================] - 0s 38us/step - loss: 0.8367 - accuracy: 0.6462 - val_loss: 0.8660 - val_accuracy: 0.6301\n",
      "Epoch 7/100\n",
      "3064/3064 [==============================] - 0s 38us/step - loss: 0.8088 - accuracy: 0.6602 - val_loss: 0.8426 - val_accuracy: 0.6458\n",
      "Epoch 8/100\n",
      "3064/3064 [==============================] - 0s 45us/step - loss: 0.7721 - accuracy: 0.6883 - val_loss: 0.8265 - val_accuracy: 0.6566\n",
      "Epoch 9/100\n",
      "3064/3064 [==============================] - 0s 36us/step - loss: 0.7476 - accuracy: 0.6994 - val_loss: 0.8220 - val_accuracy: 0.6536\n",
      "Epoch 10/100\n",
      "3064/3064 [==============================] - 0s 36us/step - loss: 0.7191 - accuracy: 0.7157 - val_loss: 0.7866 - val_accuracy: 0.6830\n",
      "Epoch 11/100\n",
      "3064/3064 [==============================] - 0s 36us/step - loss: 0.6953 - accuracy: 0.7193 - val_loss: 0.7702 - val_accuracy: 0.6977\n",
      "Epoch 12/100\n",
      "3064/3064 [==============================] - 0s 36us/step - loss: 0.6783 - accuracy: 0.7314 - val_loss: 0.7584 - val_accuracy: 0.7016\n",
      "Epoch 13/100\n",
      "3064/3064 [==============================] - 0s 36us/step - loss: 0.6590 - accuracy: 0.7402 - val_loss: 0.7598 - val_accuracy: 0.7045\n",
      "Epoch 14/100\n",
      "3064/3064 [==============================] - 0s 36us/step - loss: 0.6450 - accuracy: 0.7389 - val_loss: 0.7403 - val_accuracy: 0.7016\n",
      "Epoch 15/100\n",
      "3064/3064 [==============================] - 0s 36us/step - loss: 0.6259 - accuracy: 0.7497 - val_loss: 0.7367 - val_accuracy: 0.7045\n",
      "Epoch 16/100\n",
      "3064/3064 [==============================] - 0s 36us/step - loss: 0.6113 - accuracy: 0.7565 - val_loss: 0.7142 - val_accuracy: 0.7231\n",
      "Epoch 17/100\n",
      "3064/3064 [==============================] - 0s 36us/step - loss: 0.5966 - accuracy: 0.7621 - val_loss: 0.7192 - val_accuracy: 0.7192\n",
      "Epoch 18/100\n",
      "3064/3064 [==============================] - 0s 36us/step - loss: 0.5776 - accuracy: 0.7702 - val_loss: 0.6997 - val_accuracy: 0.7231\n",
      "Epoch 19/100\n",
      "3064/3064 [==============================] - 0s 36us/step - loss: 0.5721 - accuracy: 0.7722 - val_loss: 0.7125 - val_accuracy: 0.7270\n",
      "Epoch 20/100\n",
      "3064/3064 [==============================] - 0s 36us/step - loss: 0.5564 - accuracy: 0.7807 - val_loss: 0.6886 - val_accuracy: 0.7378\n",
      "Epoch 21/100\n",
      "3064/3064 [==============================] - 0s 39us/step - loss: 0.5457 - accuracy: 0.7817 - val_loss: 0.7025 - val_accuracy: 0.7202\n",
      "Epoch 22/100\n",
      "3064/3064 [==============================] - 0s 38us/step - loss: 0.5366 - accuracy: 0.7843 - val_loss: 0.6776 - val_accuracy: 0.7339\n",
      "Epoch 23/100\n",
      "3064/3064 [==============================] - 0s 37us/step - loss: 0.5243 - accuracy: 0.7908 - val_loss: 0.6807 - val_accuracy: 0.7250\n",
      "Epoch 24/100\n",
      "3064/3064 [==============================] - 0s 36us/step - loss: 0.5122 - accuracy: 0.7990 - val_loss: 0.6514 - val_accuracy: 0.7524\n",
      "Epoch 25/100\n",
      "3064/3064 [==============================] - 0s 36us/step - loss: 0.4970 - accuracy: 0.7937 - val_loss: 0.6430 - val_accuracy: 0.7476\n",
      "Epoch 26/100\n",
      "3064/3064 [==============================] - 0s 36us/step - loss: 0.4895 - accuracy: 0.8016 - val_loss: 0.6525 - val_accuracy: 0.7534\n",
      "Epoch 27/100\n",
      "3064/3064 [==============================] - 0s 36us/step - loss: 0.4884 - accuracy: 0.8022 - val_loss: 0.6445 - val_accuracy: 0.7515\n",
      "Epoch 28/100\n",
      "3064/3064 [==============================] - 0s 36us/step - loss: 0.4736 - accuracy: 0.8149 - val_loss: 0.6420 - val_accuracy: 0.7554\n",
      "Epoch 29/100\n",
      "3064/3064 [==============================] - 0s 37us/step - loss: 0.4727 - accuracy: 0.8179 - val_loss: 0.6449 - val_accuracy: 0.7505\n",
      "Epoch 30/100\n",
      "3064/3064 [==============================] - 0s 36us/step - loss: 0.4654 - accuracy: 0.8127 - val_loss: 0.6215 - val_accuracy: 0.7524\n",
      "Epoch 31/100\n",
      "3064/3064 [==============================] - 0s 39us/step - loss: 0.4549 - accuracy: 0.8202 - val_loss: 0.6399 - val_accuracy: 0.7583\n",
      "Epoch 32/100\n",
      "3064/3064 [==============================] - 0s 39us/step - loss: 0.4439 - accuracy: 0.8192 - val_loss: 0.6283 - val_accuracy: 0.7583\n",
      "Epoch 33/100\n",
      "3064/3064 [==============================] - 0s 36us/step - loss: 0.4422 - accuracy: 0.8202 - val_loss: 0.6291 - val_accuracy: 0.7613\n",
      "Epoch 34/100\n",
      "3064/3064 [==============================] - 0s 36us/step - loss: 0.4314 - accuracy: 0.8270 - val_loss: 0.6136 - val_accuracy: 0.7593\n",
      "Epoch 35/100\n",
      "3064/3064 [==============================] - 0s 35us/step - loss: 0.4234 - accuracy: 0.8313 - val_loss: 0.6120 - val_accuracy: 0.7661\n",
      "Epoch 36/100\n",
      "3064/3064 [==============================] - 0s 35us/step - loss: 0.4192 - accuracy: 0.8316 - val_loss: 0.6077 - val_accuracy: 0.7661\n",
      "Epoch 37/100\n",
      "3064/3064 [==============================] - 0s 35us/step - loss: 0.4157 - accuracy: 0.8371 - val_loss: 0.6349 - val_accuracy: 0.7613\n",
      "Epoch 38/100\n",
      "3064/3064 [==============================] - 0s 38us/step - loss: 0.4101 - accuracy: 0.8394 - val_loss: 0.6207 - val_accuracy: 0.7622\n",
      "Epoch 39/100\n",
      "3064/3064 [==============================] - 0s 36us/step - loss: 0.3983 - accuracy: 0.8420 - val_loss: 0.5864 - val_accuracy: 0.7769\n",
      "Epoch 40/100\n",
      "3064/3064 [==============================] - 0s 36us/step - loss: 0.4017 - accuracy: 0.8371 - val_loss: 0.5815 - val_accuracy: 0.7720\n",
      "Epoch 41/100\n",
      "3064/3064 [==============================] - 0s 38us/step - loss: 0.3911 - accuracy: 0.8427 - val_loss: 0.5874 - val_accuracy: 0.7720\n",
      "Epoch 42/100\n",
      "3064/3064 [==============================] - 0s 36us/step - loss: 0.3902 - accuracy: 0.8528 - val_loss: 0.5786 - val_accuracy: 0.7642\n",
      "Epoch 43/100\n",
      "3064/3064 [==============================] - 0s 35us/step - loss: 0.3870 - accuracy: 0.8440 - val_loss: 0.5824 - val_accuracy: 0.7789\n",
      "Epoch 44/100\n",
      "3064/3064 [==============================] - 0s 36us/step - loss: 0.3787 - accuracy: 0.8502 - val_loss: 0.5828 - val_accuracy: 0.7798\n",
      "Epoch 45/100\n",
      "3064/3064 [==============================] - 0s 38us/step - loss: 0.3766 - accuracy: 0.8518 - val_loss: 0.5695 - val_accuracy: 0.7789\n",
      "Epoch 46/100\n",
      "3064/3064 [==============================] - 0s 36us/step - loss: 0.3670 - accuracy: 0.8587 - val_loss: 0.5722 - val_accuracy: 0.7798\n",
      "Epoch 47/100\n",
      "3064/3064 [==============================] - 0s 39us/step - loss: 0.3648 - accuracy: 0.8499 - val_loss: 0.5808 - val_accuracy: 0.7896\n",
      "Epoch 48/100\n",
      "3064/3064 [==============================] - 0s 36us/step - loss: 0.3591 - accuracy: 0.8574 - val_loss: 0.5845 - val_accuracy: 0.7808\n",
      "Epoch 49/100\n",
      "3064/3064 [==============================] - 0s 36us/step - loss: 0.3589 - accuracy: 0.8600 - val_loss: 0.5681 - val_accuracy: 0.7877\n",
      "Epoch 50/100\n",
      "3064/3064 [==============================] - 0s 36us/step - loss: 0.3504 - accuracy: 0.8652 - val_loss: 0.5681 - val_accuracy: 0.7857\n",
      "Epoch 51/100\n",
      "3064/3064 [==============================] - 0s 36us/step - loss: 0.3449 - accuracy: 0.8613 - val_loss: 0.5832 - val_accuracy: 0.7886\n",
      "Epoch 52/100\n",
      "3064/3064 [==============================] - 0s 36us/step - loss: 0.3418 - accuracy: 0.8649 - val_loss: 0.5899 - val_accuracy: 0.7906\n",
      "Epoch 53/100\n",
      "3064/3064 [==============================] - 0s 36us/step - loss: 0.3374 - accuracy: 0.8672 - val_loss: 0.5740 - val_accuracy: 0.7867\n",
      "Epoch 54/100\n",
      "3064/3064 [==============================] - 0s 37us/step - loss: 0.3384 - accuracy: 0.8681 - val_loss: 0.5748 - val_accuracy: 0.7886\n"
     ]
    },
    {
     "name": "stdout",
     "output_type": "stream",
     "text": [
      "Epoch 55/100\n",
      "3064/3064 [==============================] - 0s 37us/step - loss: 0.3315 - accuracy: 0.8668 - val_loss: 0.5493 - val_accuracy: 0.7935\n",
      "Epoch 56/100\n",
      "3064/3064 [==============================] - ETA: 0s - loss: 0.3162 - accuracy: 0.87 - 0s 37us/step - loss: 0.3258 - accuracy: 0.8740 - val_loss: 0.5621 - val_accuracy: 0.7857\n",
      "Epoch 57/100\n",
      "3064/3064 [==============================] - 0s 36us/step - loss: 0.3266 - accuracy: 0.8698 - val_loss: 0.5717 - val_accuracy: 0.7994\n",
      "Epoch 58/100\n",
      "3064/3064 [==============================] - 0s 38us/step - loss: 0.3226 - accuracy: 0.8740 - val_loss: 0.5746 - val_accuracy: 0.7818\n",
      "Epoch 59/100\n",
      "3064/3064 [==============================] - 0s 37us/step - loss: 0.3200 - accuracy: 0.8776 - val_loss: 0.5669 - val_accuracy: 0.7926\n",
      "Epoch 60/100\n",
      "3064/3064 [==============================] - 0s 36us/step - loss: 0.3173 - accuracy: 0.8701 - val_loss: 0.5601 - val_accuracy: 0.8004\n",
      "Epoch 61/100\n",
      "3064/3064 [==============================] - 0s 37us/step - loss: 0.3176 - accuracy: 0.8737 - val_loss: 0.5673 - val_accuracy: 0.7935\n",
      "Epoch 62/100\n",
      "3064/3064 [==============================] - 0s 35us/step - loss: 0.3032 - accuracy: 0.8861 - val_loss: 0.5786 - val_accuracy: 0.7935\n",
      "Epoch 63/100\n",
      "3064/3064 [==============================] - 0s 35us/step - loss: 0.3114 - accuracy: 0.8760 - val_loss: 0.5582 - val_accuracy: 0.8063\n",
      "Epoch 64/100\n",
      "3064/3064 [==============================] - 0s 37us/step - loss: 0.3007 - accuracy: 0.8835 - val_loss: 0.5586 - val_accuracy: 0.8082\n",
      "Epoch 65/100\n",
      "3064/3064 [==============================] - 0s 36us/step - loss: 0.2968 - accuracy: 0.8832 - val_loss: 0.5706 - val_accuracy: 0.8004\n",
      "Epoch 66/100\n",
      "3064/3064 [==============================] - 0s 35us/step - loss: 0.2935 - accuracy: 0.8890 - val_loss: 0.5590 - val_accuracy: 0.7994\n",
      "Epoch 67/100\n",
      "3064/3064 [==============================] - 0s 37us/step - loss: 0.2982 - accuracy: 0.8881 - val_loss: 0.5807 - val_accuracy: 0.8072\n",
      "Epoch 68/100\n",
      "3064/3064 [==============================] - 0s 37us/step - loss: 0.2888 - accuracy: 0.8848 - val_loss: 0.5631 - val_accuracy: 0.7994\n",
      "Epoch 69/100\n",
      "3064/3064 [==============================] - 0s 37us/step - loss: 0.2827 - accuracy: 0.8965 - val_loss: 0.5543 - val_accuracy: 0.8063\n",
      "Epoch 70/100\n",
      "3064/3064 [==============================] - 0s 37us/step - loss: 0.2883 - accuracy: 0.8871 - val_loss: 0.5586 - val_accuracy: 0.8053\n",
      "Epoch 71/100\n",
      "3064/3064 [==============================] - 0s 37us/step - loss: 0.2736 - accuracy: 0.8975 - val_loss: 0.5564 - val_accuracy: 0.8102\n",
      "Epoch 72/100\n",
      "3064/3064 [==============================] - 0s 37us/step - loss: 0.2757 - accuracy: 0.8982 - val_loss: 0.6127 - val_accuracy: 0.7916\n",
      "Epoch 73/100\n",
      "3064/3064 [==============================] - 0s 35us/step - loss: 0.2895 - accuracy: 0.8884 - val_loss: 0.5717 - val_accuracy: 0.8014\n",
      "Epoch 74/100\n",
      "3064/3064 [==============================] - 0s 35us/step - loss: 0.2753 - accuracy: 0.8894 - val_loss: 0.5710 - val_accuracy: 0.8082\n",
      "Epoch 75/100\n",
      "3064/3064 [==============================] - 0s 37us/step - loss: 0.2751 - accuracy: 0.8916 - val_loss: 0.5538 - val_accuracy: 0.8043\n",
      "Epoch 76/100\n",
      "3064/3064 [==============================] - 0s 37us/step - loss: 0.2620 - accuracy: 0.8998 - val_loss: 0.5749 - val_accuracy: 0.8063\n",
      "Epoch 77/100\n",
      "3064/3064 [==============================] - 0s 37us/step - loss: 0.2591 - accuracy: 0.9008 - val_loss: 0.5618 - val_accuracy: 0.8190\n",
      "Epoch 78/100\n",
      "3064/3064 [==============================] - 0s 35us/step - loss: 0.2610 - accuracy: 0.9011 - val_loss: 0.5676 - val_accuracy: 0.8131\n",
      "Epoch 79/100\n",
      "3064/3064 [==============================] - 0s 35us/step - loss: 0.2629 - accuracy: 0.9027 - val_loss: 0.5676 - val_accuracy: 0.8023\n",
      "Epoch 80/100\n",
      "3064/3064 [==============================] - 0s 38us/step - loss: 0.2598 - accuracy: 0.8995 - val_loss: 0.5752 - val_accuracy: 0.8141\n",
      "Epoch 81/100\n",
      "3064/3064 [==============================] - 0s 37us/step - loss: 0.2548 - accuracy: 0.9027 - val_loss: 0.5931 - val_accuracy: 0.8072\n",
      "Epoch 82/100\n",
      "3064/3064 [==============================] - 0s 37us/step - loss: 0.2548 - accuracy: 0.9027 - val_loss: 0.5622 - val_accuracy: 0.8082\n",
      "Epoch 83/100\n",
      "3064/3064 [==============================] - 0s 36us/step - loss: 0.2465 - accuracy: 0.9102 - val_loss: 0.5597 - val_accuracy: 0.8063\n",
      "Epoch 84/100\n",
      "3064/3064 [==============================] - 0s 38us/step - loss: 0.2489 - accuracy: 0.9054 - val_loss: 0.5886 - val_accuracy: 0.8043\n",
      "Epoch 85/100\n",
      "3064/3064 [==============================] - 0s 37us/step - loss: 0.2387 - accuracy: 0.9080 - val_loss: 0.5668 - val_accuracy: 0.8131\n",
      "Epoch 86/100\n",
      "3064/3064 [==============================] - 0s 36us/step - loss: 0.2392 - accuracy: 0.9135 - val_loss: 0.5610 - val_accuracy: 0.8190\n",
      "Epoch 87/100\n",
      "3064/3064 [==============================] - 0s 36us/step - loss: 0.2446 - accuracy: 0.9070 - val_loss: 0.5987 - val_accuracy: 0.8082\n",
      "Epoch 88/100\n",
      "3064/3064 [==============================] - 0s 38us/step - loss: 0.2339 - accuracy: 0.9125 - val_loss: 0.5752 - val_accuracy: 0.7994\n",
      "Epoch 89/100\n",
      "3064/3064 [==============================] - 0s 41us/step - loss: 0.2373 - accuracy: 0.9119 - val_loss: 0.5744 - val_accuracy: 0.8033\n",
      "Epoch 90/100\n",
      "3064/3064 [==============================] - 0s 36us/step - loss: 0.2323 - accuracy: 0.9129 - val_loss: 0.6154 - val_accuracy: 0.8014\n",
      "Epoch 91/100\n",
      "3064/3064 [==============================] - 0s 37us/step - loss: 0.2259 - accuracy: 0.9174 - val_loss: 0.5982 - val_accuracy: 0.8121\n",
      "Epoch 92/100\n",
      "3064/3064 [==============================] - 0s 37us/step - loss: 0.2239 - accuracy: 0.9138 - val_loss: 0.5748 - val_accuracy: 0.8102\n",
      "Epoch 93/100\n",
      "3064/3064 [==============================] - 0s 36us/step - loss: 0.2292 - accuracy: 0.9119 - val_loss: 0.6067 - val_accuracy: 0.8082\n",
      "Epoch 94/100\n",
      "3064/3064 [==============================] - 0s 36us/step - loss: 0.2230 - accuracy: 0.9184 - val_loss: 0.5856 - val_accuracy: 0.8141\n",
      "Epoch 95/100\n",
      "3064/3064 [==============================] - 0s 36us/step - loss: 0.2266 - accuracy: 0.9135 - val_loss: 0.5860 - val_accuracy: 0.8131\n",
      "Epoch 96/100\n",
      "3064/3064 [==============================] - 0s 38us/step - loss: 0.2172 - accuracy: 0.9220 - val_loss: 0.6103 - val_accuracy: 0.8043\n",
      "Epoch 97/100\n",
      "3064/3064 [==============================] - 0s 37us/step - loss: 0.2165 - accuracy: 0.9187 - val_loss: 0.6024 - val_accuracy: 0.8102\n",
      "Epoch 98/100\n",
      "3064/3064 [==============================] - 0s 35us/step - loss: 0.2074 - accuracy: 0.9217 - val_loss: 0.6042 - val_accuracy: 0.8141\n",
      "Epoch 99/100\n",
      "3064/3064 [==============================] - 0s 36us/step - loss: 0.2157 - accuracy: 0.9194 - val_loss: 0.5811 - val_accuracy: 0.8112\n",
      "Epoch 100/100\n",
      "3064/3064 [==============================] - 0s 37us/step - loss: 0.2077 - accuracy: 0.9249 - val_loss: 0.5734 - val_accuracy: 0.8151\n"
     ]
    }
   ],
   "source": [
    "history = model.fit(X_train, y_train, epochs=100, validation_data=(X_test, y_test))"
   ]
  },
  {
   "cell_type": "code",
   "execution_count": 12,
   "metadata": {
    "colab": {
     "base_uri": "https://localhost:8080/",
     "height": 51
    },
    "colab_type": "code",
    "id": "PLzTA6OUhaZ5",
    "outputId": "8208bcd7-4790-40c7-cde5-0680788db8c5"
   },
   "outputs": [
    {
     "name": "stdout",
     "output_type": "stream",
     "text": [
      "[[5.1507105e-09 9.0658015e-01 8.9564778e-02 3.8548929e-03 2.4498385e-07\n",
      "  5.2181471e-36]]\n"
     ]
    }
   ],
   "source": [
    "# make 1 particular prediction (IMPORTANT: always need to scale first)\n",
    "make_prediction = scaler.transform(np.array([[7.4,0.59,0.08,4.4,0.086,6,29,0.9974,3.38,0.5,9]]))\n",
    "predictions = model.predict(make_prediction)\n",
    "\n",
    "# devuelve array con probabilidades de pertenecer a cada clase\n",
    "print(predictions)"
   ]
  },
  {
   "cell_type": "code",
   "execution_count": 13,
   "metadata": {
    "colab": {
     "base_uri": "https://localhost:8080/",
     "height": 34
    },
    "colab_type": "code",
    "id": "HDoKuxJ8h2DZ",
    "outputId": "9e6b9fd7-00fb-4223-dc1a-4f5e926cfde7"
   },
   "outputs": [
    {
     "name": "stdout",
     "output_type": "stream",
     "text": [
      "Predicted class is: 4\n"
     ]
    }
   ],
   "source": [
    "# return the index with the higher value (probability)\n",
    "prediction = np.argmax(predictions)\n",
    "\n",
    "print('Predicted class is:', y_cat.columns[prediction])"
   ]
  },
  {
   "cell_type": "code",
   "execution_count": 14,
   "metadata": {},
   "outputs": [
    {
     "data": {
      "text/plain": [
       "(Text(33.0, 0.5, 'True Class'), Text(0.5, 15.0, 'Predicted Class'))"
      ]
     },
     "execution_count": 14,
     "metadata": {},
     "output_type": "execute_result"
    },
    {
     "data": {
      "image/png": "[encoded data removed]",
      "text/plain": [
       "<Figure size 432x288 with 1 Axes>"
      ]
     },
     "metadata": {
      "needs_background": "light"
     },
     "output_type": "display_data"
    }
   ],
   "source": [
    "# standarize original values\n",
    "X_standarized = scaler.transform(X)\n",
    "\n",
    "# predict values\n",
    "predictions = model.predict([X_standarized])\n",
    "\n",
    "# gets indexes with higher probabilty predicted in last step\n",
    "indexes = np.argmax(predictions, axis=1)\n",
    "\n",
    "# creates a list with the original target tags\n",
    "predicted_values = []\n",
    "for i in indexes:\n",
    "    predicted_values.append(y_cat.columns[i])\n",
    "\n",
    "# convert to pandas series\n",
    "predicted_values = pd.Series(predicted_values)\n",
    "\n",
    "# Create confusion matrix\n",
    "matrix = confusion_matrix(y, predicted_values)\n",
    "matrix = pd.DataFrame(matrix, index=y_cat.columns, columns=y_cat.columns)\n",
    "\n",
    "# Create heatmap\n",
    "sns.heatmap(matrix, annot=True, cbar=None, cmap=\"Blues\",fmt='g')\n",
    "plt.title(\"Confusion Matrix\"), plt.tight_layout()\n",
    "plt.ylabel(\"True Class\"), plt.xlabel(\"Predicted Class\")"
   ]
  },
  {
   "cell_type": "code",
   "execution_count": 15,
   "metadata": {},
   "outputs": [
    {
     "data": {
      "text/plain": [
       "Text(0, 0.5, 'Accuracy Score')"
      ]
     },
     "execution_count": 15,
     "metadata": {},
     "output_type": "execute_result"
    },
    {
     "data": {
      "image/png": "[encoded data removed]",
      "text/plain": [
       "<Figure size 432x288 with 1 Axes>"
      ]
     },
     "metadata": {
      "needs_background": "light"
     },
     "output_type": "display_data"
    }
   ],
   "source": [
    "training_accuracy = history.history[\"accuracy\"]\n",
    "test_accuracy = history.history[\"val_accuracy\"]\n",
    "\n",
    "# create count of the number of epochs\n",
    "epoch_count = range(1, len(training_accuracy) + 1)\n",
    "\n",
    "\n",
    "plt.plot(epoch_count, training_accuracy, \"r--\")\n",
    "plt.plot(epoch_count, test_accuracy, \"b-\")\n",
    "\n",
    "# visualize accuracy history\n",
    "plt.legend([\"Training Accuracy\", \"Test Accuracy\"])\n",
    "plt.xlabel(\"Epoch\")\n",
    "plt.ylabel(\"Accuracy Score\")"
   ]
  },
  {
   "cell_type": "code",
   "execution_count": 16,
   "metadata": {},
   "outputs": [
    {
     "name": "stdout",
     "output_type": "stream",
     "text": [
      "Training accuracy: 92.5 %\n",
      "Test accuracy: 81.5 %\n"
     ]
    }
   ],
   "source": [
    "print(f'Training accuracy: {round(training_accuracy[-1]*100,1)} %')\n",
    "print(f'Test accuracy: {round(test_accuracy[-1]*100,1)} %')"
   ]
  },
  {
   "cell_type": "code",
   "execution_count": 17,
   "metadata": {},
   "outputs": [],
   "source": [
    "# save neural network\n",
    "model.save(\"wine_model.h5\")"
   ]
  },
  {
   "cell_type": "markdown",
   "metadata": {},
   "source": [
    "# Conclusion"
   ]
  },
  {
   "cell_type": "markdown",
   "metadata": {},
   "source": [
    "A Neural Network model was implemented, consisting of 1 input layer, 2 hidden layers with 100 units each and 1 output layer with 1 unit per class (6 in total).\n",
    "\n",
    "The test accuracy is in the order of 80%. (81,5% for this particular seed)"
   ]
  },
  {
   "cell_type": "code",
   "execution_count": null,
   "metadata": {},
   "outputs": [],
   "source": []
  }
 ],
 "metadata": {
  "colab": {
   "collapsed_sections": [],
   "name": "2-TensorFlow.ipynb",
   "provenance": [],
   "toc_visible": true
  },
  "kernelspec": {
   "display_name": "Python 3",
   "language": "python",
   "name": "python3"
  },
  "language_info": {
   "codemirror_mode": {
    "name": "ipython",
    "version": 3
   },
   "file_extension": ".py",
   "mimetype": "text/x-python",
   "name": "python",
   "nbconvert_exporter": "python",
   "pygments_lexer": "ipython3",
   "version": "3.7.6"
  }
 },
 "nbformat": 4,
 "nbformat_minor": 1
}
