{
 "cells": [
  {
   "cell_type": "code",
   "execution_count": 19,
   "metadata": {
    "colab": {},
    "colab_type": "code",
    "id": "M37WSo5iFP0I"
   },
   "outputs": [],
   "source": [
    "# import libraries\n",
    "\n",
    "\n",
    "import pandas as pd\n",
    "import numpy as np\n",
    "import matplotlib.pyplot as plt\n",
    "import seaborn as sns\n",
    "\n",
    "import tensorflow as tf\n",
    "from keras.models import Sequential\n",
    "from keras.layers import Dense\n",
    "from sklearn.metrics import confusion_matrix\n",
    "from sklearn import preprocessing\n",
    "from sklearn.model_selection import train_test_split\n",
    "\n",
    "from numpy.random import seed # for reproducible results\n",
    "seed(1)\n",
    "from tensorflow import set_random_seed # TensorFlow has its own random number generator\n",
    "set_random_seed(2)"
   ]
  },
  {
   "cell_type": "code",
   "execution_count": 2,
   "metadata": {
    "colab": {},
    "colab_type": "code",
    "id": "Pb4aeVrxl3Q0"
   },
   "outputs": [],
   "source": [
    "# read data\n",
    "df = pd.read_csv('wineQualityReds.csv')\n",
    "\n",
    "# deletes first column\n",
    "df.drop(df.columns[0],1, inplace=True)"
   ]
  },
  {
   "cell_type": "code",
   "execution_count": 3,
   "metadata": {
    "colab": {
     "base_uri": "https://localhost:8080/",
     "height": 153
    },
    "colab_type": "code",
    "id": "xI_vS0SAl4sn",
    "outputId": "6c053194-7bb5-41ba-ade9-a48c6a6e091f"
   },
   "outputs": [
    {
     "name": "stdout",
     "output_type": "stream",
     "text": [
      "5    681\n",
      "6    638\n",
      "7    199\n",
      "4     53\n",
      "8     18\n",
      "3     10\n",
      "Name: quality, dtype: int64\n",
      "(1599,)\n"
     ]
    }
   ],
   "source": [
    "print(df['quality'].value_counts())\n",
    "print(df['quality'].shape)"
   ]
  },
  {
   "cell_type": "markdown",
   "metadata": {
    "colab_type": "text",
    "id": "KAhLI-XbmRBN"
   },
   "source": [
    "\n",
    "*   The dataset is very imbalanced\n",
    "*   Most of the target values are 5\n",
    "*   Only 10 observations are of class 3"
   ]
  },
  {
   "cell_type": "code",
   "execution_count": 4,
   "metadata": {
    "colab": {
     "base_uri": "https://localhost:8080/",
     "height": 255
    },
    "colab_type": "code",
    "id": "dtCdhgoHJhHe",
    "outputId": "8a5addfc-f53e-44c8-e3b2-7c1886b707cd"
   },
   "outputs": [
    {
     "name": "stdout",
     "output_type": "stream",
     "text": [
      "      fixed.acidity  volatile.acidity  citric.acid  residual.sugar  chlorides  \\\n",
      "0               7.4             0.700         0.00             1.9      0.076   \n",
      "1               7.8             0.880         0.00             2.6      0.098   \n",
      "2               7.8             0.760         0.04             2.3      0.092   \n",
      "3              11.2             0.280         0.56             1.9      0.075   \n",
      "4               7.4             0.700         0.00             1.9      0.076   \n",
      "...             ...               ...          ...             ...        ...   \n",
      "1594            6.2             0.600         0.08             2.0      0.090   \n",
      "1595            5.9             0.550         0.10             2.2      0.062   \n",
      "1596            6.3             0.510         0.13             2.3      0.076   \n",
      "1597            5.9             0.645         0.12             2.0      0.075   \n",
      "1598            6.0             0.310         0.47             3.6      0.067   \n",
      "\n",
      "      free.sulfur.dioxide  total.sulfur.dioxide  density    pH  sulphates  \\\n",
      "0                    11.0                  34.0  0.99780  3.51       0.56   \n",
      "1                    25.0                  67.0  0.99680  3.20       0.68   \n",
      "2                    15.0                  54.0  0.99700  3.26       0.65   \n",
      "3                    17.0                  60.0  0.99800  3.16       0.58   \n",
      "4                    11.0                  34.0  0.99780  3.51       0.56   \n",
      "...                   ...                   ...      ...   ...        ...   \n",
      "1594                 32.0                  44.0  0.99490  3.45       0.58   \n",
      "1595                 39.0                  51.0  0.99512  3.52       0.76   \n",
      "1596                 29.0                  40.0  0.99574  3.42       0.75   \n",
      "1597                 32.0                  44.0  0.99547  3.57       0.71   \n",
      "1598                 18.0                  42.0  0.99549  3.39       0.66   \n",
      "\n",
      "      alcohol  quality  \n",
      "0         9.4        5  \n",
      "1         9.8        5  \n",
      "2         9.8        5  \n",
      "3         9.8        6  \n",
      "4         9.4        5  \n",
      "...       ...      ...  \n",
      "1594     10.5        5  \n",
      "1595     11.2        6  \n",
      "1596     11.0        6  \n",
      "1597     10.2        5  \n",
      "1598     11.0        6  \n",
      "\n",
      "[1599 rows x 12 columns]\n"
     ]
    }
   ],
   "source": [
    "# shows the dataframe\n",
    "print(df)\n",
    "\n",
    "# define X and y\n",
    "X = df.drop('quality',1)\n",
    "y = df.quality"
   ]
  },
  {
   "cell_type": "code",
   "execution_count": 5,
   "metadata": {
    "colab": {
     "base_uri": "https://localhost:8080/",
     "height": 136
    },
    "colab_type": "code",
    "id": "eJq8jDG4ptIC",
    "outputId": "899998c7-560b-4da5-a7df-cf776e90a308"
   },
   "outputs": [
    {
     "name": "stdout",
     "output_type": "stream",
     "text": [
      "7    681\n",
      "5    681\n",
      "3    681\n",
      "8    681\n",
      "6    681\n",
      "4    681\n",
      "Name: quality, dtype: int64\n"
     ]
    }
   ],
   "source": [
    "from imblearn.over_sampling import SMOTE\n",
    "\n",
    "# stops annoying warning\n",
    "import warnings\n",
    "warnings.filterwarnings(\"ignore\")\n",
    "\n",
    "# save name of columns\n",
    "feature_columns = X.columns\n",
    "\n",
    "# implements smote\n",
    "sm = SMOTE()\n",
    "X_res, y_res = sm.fit_resample(X, y)\n",
    "\n",
    "X_res = pd.DataFrame(X_res, columns=feature_columns)\n",
    "y_res = pd.DataFrame(y_res, columns=['quality'])\n",
    "print(y_res['quality'].value_counts())"
   ]
  },
  {
   "cell_type": "code",
   "execution_count": 6,
   "metadata": {
    "colab": {
     "base_uri": "https://localhost:8080/",
     "height": 255
    },
    "colab_type": "code",
    "id": "WMh8B3SdOQfE",
    "outputId": "e9dacd11-b030-4c36-cbe6-0c02b15b9d35"
   },
   "outputs": [
    {
     "name": "stdout",
     "output_type": "stream",
     "text": [
      "      fixed.acidity  volatile.acidity  citric.acid  residual.sugar  chlorides  \\\n",
      "0         -0.595650          0.466480    -1.360659       -0.579236  -0.288855   \n",
      "1         -0.350979          1.194378    -1.360659       -0.018798   0.177537   \n",
      "2         -0.350979          0.709113    -1.162606       -0.258986   0.050339   \n",
      "3          1.728725         -1.231950     1.412090       -0.579236  -0.310055   \n",
      "4         -0.595650          0.466480    -1.360659       -0.579236  -0.288855   \n",
      "...             ...               ...          ...             ...        ...   \n",
      "4081       0.081626         -0.503384     0.489959       -0.715048  -0.413763   \n",
      "4082       1.219326         -0.077836     1.551205        1.479950  -0.221553   \n",
      "4083      -0.001834         -0.888936     0.614400       -0.464456  -0.639306   \n",
      "4084      -0.040895         -0.443840     0.618314       -0.033699  -0.265850   \n",
      "4085       1.933832         -1.069235     1.778522       -0.404618  -0.364973   \n",
      "\n",
      "      free.sulfur.dioxide  total.sulfur.dioxide   density        pH  \\\n",
      "0               -0.229056             -0.076377  0.683938  1.202509   \n",
      "1                1.233244              1.096481  0.139400 -0.820325   \n",
      "2                0.188744              0.634446  0.248307 -0.428809   \n",
      "3                0.397644              0.847693  0.792846 -1.081336   \n",
      "4               -0.229056             -0.076377  0.683938  1.202509   \n",
      "...                   ...                   ...       ...       ...   \n",
      "4081             1.945814              1.514077 -1.497398 -0.971892   \n",
      "4082            -0.537435             -0.528634  0.723014 -0.674974   \n",
      "4083            -0.015073             -0.254082 -0.523346 -1.119738   \n",
      "4084            -0.599079             -0.680576 -1.685491 -0.908838   \n",
      "4085            -0.516063             -0.290467  0.671193 -2.427443   \n",
      "\n",
      "      sulphates   alcohol  \n",
      "0     -0.607111 -1.126661  \n",
      "1      0.132364 -0.782956  \n",
      "2     -0.052505 -0.782956  \n",
      "3     -0.483866 -0.782956  \n",
      "4     -0.607111 -1.126661  \n",
      "...         ...       ...  \n",
      "4081   0.221470  1.256238  \n",
      "4082   0.292125  1.899861  \n",
      "4083   0.705512  0.226488  \n",
      "4084   0.713214  1.726255  \n",
      "4085   0.843680 -0.501466  \n",
      "\n",
      "[4086 rows x 11 columns]\n"
     ]
    }
   ],
   "source": [
    "scaler = preprocessing.StandardScaler()\n",
    "X_normalized = scaler.fit_transform(X_res)\n",
    "X_normalized = pd.DataFrame(X_normalized, columns=feature_columns)\n",
    "\n",
    "print(X_normalized)"
   ]
  },
  {
   "cell_type": "code",
   "execution_count": 7,
   "metadata": {
    "colab": {
     "base_uri": "https://localhost:8080/",
     "height": 370
    },
    "colab_type": "code",
    "id": "Uj87isYb4pZD",
    "outputId": "a75b65c8-53e5-4587-bee1-69f13041737f"
   },
   "outputs": [
    {
     "data": {
      "text/plain": [
       "<matplotlib.axes._subplots.AxesSubplot at 0x1a80a6a3148>"
      ]
     },
     "execution_count": 7,
     "metadata": {},
     "output_type": "execute_result"
    },
    {
     "data": {
      "image/png": "[encoded data removed]",
      "text/plain": [
       "<Figure size 432x288 with 2 Axes>"
      ]
     },
     "metadata": {
      "needs_background": "light"
     },
     "output_type": "display_data"
    }
   ],
   "source": [
    "# visualize correlations\n",
    "corr = X_normalized.join(y_res).corr()\n",
    "sns.heatmap(corr, cmap='coolwarm_r', annot_kws={'size':20})"
   ]
  },
  {
   "cell_type": "markdown",
   "metadata": {
    "colab_type": "text",
    "id": "C9mjF-J666lL"
   },
   "source": [
    "There is a very subtle correlation between quality and the features.\n",
    "\n",
    "*   **Negative correlation:** volatile acidity, chlorides\n",
    "*   **Positive correlation:** citric acid\n",
    "\n"
   ]
  },
  {
   "cell_type": "code",
   "execution_count": 8,
   "metadata": {
    "colab": {
     "base_uri": "https://localhost:8080/",
     "height": 68
    },
    "colab_type": "code",
    "id": "EEJoGRmlasCc",
    "outputId": "afaa2765-0b68-4a2c-a3e0-42de114476e9"
   },
   "outputs": [
    {
     "name": "stdout",
     "output_type": "stream",
     "text": [
      "(3064, 11)\n",
      "(3064, 6)\n",
      "      3  4  5  6  7  8\n",
      "771   0  0  1  0  0  0\n",
      "2776  0  1  0  0  0  0\n",
      "4034  0  0  0  0  0  1\n",
      "1520  0  0  0  1  0  0\n",
      "3948  0  0  0  0  0  1\n",
      "...  .. .. .. .. .. ..\n",
      "2412  0  1  0  0  0  0\n",
      "2810  0  1  0  0  0  0\n",
      "457   0  0  1  0  0  0\n",
      "3605  0  0  0  0  0  1\n",
      "1992  1  0  0  0  0  0\n",
      "\n",
      "[3064 rows x 6 columns]\n"
     ]
    }
   ],
   "source": [
    "# one-hot encoding\n",
    "y_cat = pd.get_dummies(y_res['quality'])\n",
    "\n",
    "# separate data into train and test\n",
    "X_train, X_test, y_train, y_test = train_test_split(X_normalized,y_cat)\n",
    "\n",
    "\n",
    "print(X_train.shape)\n",
    "print(y_train.shape)\n",
    "\n",
    "# now y_train is a matrix\n",
    "print(y_train)"
   ]
  },
  {
   "cell_type": "markdown",
   "metadata": {
    "colab_type": "text",
    "id": "0FeDrQUbi5kV"
   },
   "source": [
    "Steps for building neural network:\n",
    "\n",
    "1.   Build model (keras.Sequential)\n",
    "2.   Compile model (model.compile)\n",
    "3.   Fit model (model.fit)\n",
    "\n",
    "\n",
    "\n"
   ]
  },
  {
   "cell_type": "code",
   "execution_count": 9,
   "metadata": {
    "colab": {},
    "colab_type": "code",
    "id": "Jp96-83EbKqZ"
   },
   "outputs": [
    {
     "name": "stdout",
     "output_type": "stream",
     "text": [
      "WARNING:tensorflow:From C:\\Users\\Usuario\\anaconda3\\lib\\site-packages\\tensorflow\\python\\ops\\resource_variable_ops.py:435: colocate_with (from tensorflow.python.framework.ops) is deprecated and will be removed in a future version.\n",
      "Instructions for updating:\n",
      "Colocations handled automatically by placer.\n"
     ]
    }
   ],
   "source": [
    "n_inputs = X_train.shape[1]\n",
    "\n",
    "model = Sequential()\n",
    "\n",
    "model.add(Dense(units=n_inputs, activation=\"relu\", input_shape=(n_inputs, )))\n",
    "model.add(Dense(units=100, activation=\"relu\"))\n",
    "model.add(Dense(units=100, activation=\"relu\"))\n",
    "model.add(Dense(units=6, activation=\"softmax\"))"
   ]
  },
  {
   "cell_type": "code",
   "execution_count": 10,
   "metadata": {
    "colab": {},
    "colab_type": "code",
    "id": "sAhspbfYcyxj"
   },
   "outputs": [],
   "source": [
    "model.compile(optimizer='adam',\n",
    "              loss='categorical_crossentropy',\n",
    "              metrics=['accuracy'])"
   ]
  },
  {
   "cell_type": "code",
   "execution_count": 11,
   "metadata": {
    "colab": {
     "base_uri": "https://localhost:8080/",
     "height": 1000
    },
    "colab_type": "code",
    "id": "f4UiE9txc2gl",
    "outputId": "6c912469-db79-40f1-cc65-ce145ef62301"
   },
   "outputs": [
    {
     "name": "stdout",
     "output_type": "stream",
     "text": [
      "WARNING:tensorflow:From C:\\Users\\Usuario\\anaconda3\\lib\\site-packages\\tensorflow\\python\\ops\\math_ops.py:3066: to_int32 (from tensorflow.python.ops.math_ops) is deprecated and will be removed in a future version.\n",
      "Instructions for updating:\n",
      "Use tf.cast instead.\n",
      "Train on 3064 samples, validate on 1022 samples\n",
      "Epoch 1/164\n",
      "3064/3064 [==============================] - 0s 96us/step - loss: 1.3792 - accuracy: 0.4429 - val_loss: 1.1756 - val_accuracy: 0.4932\n",
      "Epoch 2/164\n",
      "3064/3064 [==============================] - 0s 38us/step - loss: 1.0640 - accuracy: 0.5565 - val_loss: 1.0851 - val_accuracy: 0.5147\n",
      "Epoch 3/164\n",
      "3064/3064 [==============================] - 0s 49us/step - loss: 0.9852 - accuracy: 0.5849 - val_loss: 1.0118 - val_accuracy: 0.5587\n",
      "Epoch 4/164\n",
      "3064/3064 [==============================] - 0s 37us/step - loss: 0.9296 - accuracy: 0.6080 - val_loss: 0.9446 - val_accuracy: 0.6037\n",
      "Epoch 5/164\n",
      "3064/3064 [==============================] - 0s 38us/step - loss: 0.8793 - accuracy: 0.6289 - val_loss: 0.9058 - val_accuracy: 0.6145\n",
      "Epoch 6/164\n",
      "3064/3064 [==============================] - 0s 38us/step - loss: 0.8365 - accuracy: 0.6465 - val_loss: 0.8656 - val_accuracy: 0.6292\n",
      "Epoch 7/164\n",
      "3064/3064 [==============================] - 0s 37us/step - loss: 0.8093 - accuracy: 0.6602 - val_loss: 0.8436 - val_accuracy: 0.6419\n",
      "Epoch 8/164\n",
      "3064/3064 [==============================] - 0s 58us/step - loss: 0.7722 - accuracy: 0.6873 - val_loss: 0.8257 - val_accuracy: 0.6556\n",
      "Epoch 9/164\n",
      "3064/3064 [==============================] - 0s 54us/step - loss: 0.7480 - accuracy: 0.7014 - val_loss: 0.8201 - val_accuracy: 0.6556\n",
      "Epoch 10/164\n",
      "3064/3064 [==============================] - 0s 50us/step - loss: 0.7196 - accuracy: 0.7157 - val_loss: 0.7866 - val_accuracy: 0.6840\n",
      "Epoch 11/164\n",
      "3064/3064 [==============================] - 0s 49us/step - loss: 0.6961 - accuracy: 0.7187 - val_loss: 0.7702 - val_accuracy: 0.6937\n",
      "Epoch 12/164\n",
      "3064/3064 [==============================] - 0s 44us/step - loss: 0.6793 - accuracy: 0.7298 - val_loss: 0.7592 - val_accuracy: 0.6996\n",
      "Epoch 13/164\n",
      "3064/3064 [==============================] - 0s 45us/step - loss: 0.6596 - accuracy: 0.7402 - val_loss: 0.7584 - val_accuracy: 0.7065\n",
      "Epoch 14/164\n",
      "3064/3064 [==============================] - 0s 49us/step - loss: 0.6454 - accuracy: 0.7392 - val_loss: 0.7394 - val_accuracy: 0.7025\n",
      "Epoch 15/164\n",
      "3064/3064 [==============================] - 0s 45us/step - loss: 0.6266 - accuracy: 0.7493 - val_loss: 0.7384 - val_accuracy: 0.6996\n",
      "Epoch 16/164\n",
      "3064/3064 [==============================] - 0s 43us/step - loss: 0.6121 - accuracy: 0.7559 - val_loss: 0.7147 - val_accuracy: 0.7202\n",
      "Epoch 17/164\n",
      "3064/3064 [==============================] - 0s 44us/step - loss: 0.5971 - accuracy: 0.7627 - val_loss: 0.7179 - val_accuracy: 0.7172\n",
      "Epoch 18/164\n",
      "3064/3064 [==============================] - 0s 44us/step - loss: 0.5777 - accuracy: 0.7693 - val_loss: 0.6992 - val_accuracy: 0.7231\n",
      "Epoch 19/164\n",
      "3064/3064 [==============================] - 0s 42us/step - loss: 0.5724 - accuracy: 0.7715 - val_loss: 0.7111 - val_accuracy: 0.7250\n",
      "Epoch 20/164\n",
      "3064/3064 [==============================] - 0s 40us/step - loss: 0.5565 - accuracy: 0.7797 - val_loss: 0.6891 - val_accuracy: 0.7358\n",
      "Epoch 21/164\n",
      "3064/3064 [==============================] - 0s 57us/step - loss: 0.5458 - accuracy: 0.7797 - val_loss: 0.6983 - val_accuracy: 0.7231\n",
      "Epoch 22/164\n",
      "3064/3064 [==============================] - 0s 33us/step - loss: 0.5364 - accuracy: 0.7846 - val_loss: 0.6769 - val_accuracy: 0.7358\n",
      "Epoch 23/164\n",
      "3064/3064 [==============================] - 0s 35us/step - loss: 0.5234 - accuracy: 0.7921 - val_loss: 0.6767 - val_accuracy: 0.7241\n",
      "Epoch 24/164\n",
      "3064/3064 [==============================] - 0s 39us/step - loss: 0.5114 - accuracy: 0.7967 - val_loss: 0.6521 - val_accuracy: 0.7495\n",
      "Epoch 25/164\n",
      "3064/3064 [==============================] - 0s 41us/step - loss: 0.4967 - accuracy: 0.7954 - val_loss: 0.6420 - val_accuracy: 0.7495\n",
      "Epoch 26/164\n",
      "3064/3064 [==============================] - 0s 38us/step - loss: 0.4881 - accuracy: 0.8025 - val_loss: 0.6492 - val_accuracy: 0.7505\n",
      "Epoch 27/164\n",
      "3064/3064 [==============================] - 0s 35us/step - loss: 0.4890 - accuracy: 0.8068 - val_loss: 0.6426 - val_accuracy: 0.7495\n",
      "Epoch 28/164\n",
      "3064/3064 [==============================] - 0s 35us/step - loss: 0.4733 - accuracy: 0.8130 - val_loss: 0.6406 - val_accuracy: 0.7544\n",
      "Epoch 29/164\n",
      "3064/3064 [==============================] - 0s 34us/step - loss: 0.4721 - accuracy: 0.8140 - val_loss: 0.6413 - val_accuracy: 0.7554\n",
      "Epoch 30/164\n",
      "3064/3064 [==============================] - 0s 34us/step - loss: 0.4656 - accuracy: 0.8120 - val_loss: 0.6191 - val_accuracy: 0.7495\n",
      "Epoch 31/164\n",
      "3064/3064 [==============================] - 0s 34us/step - loss: 0.4563 - accuracy: 0.8195 - val_loss: 0.6452 - val_accuracy: 0.7495\n",
      "Epoch 32/164\n",
      "3064/3064 [==============================] - 0s 34us/step - loss: 0.4445 - accuracy: 0.8218 - val_loss: 0.6295 - val_accuracy: 0.7495\n",
      "Epoch 33/164\n",
      "3064/3064 [==============================] - 0s 34us/step - loss: 0.4430 - accuracy: 0.8189 - val_loss: 0.6227 - val_accuracy: 0.7642\n",
      "Epoch 34/164\n",
      "3064/3064 [==============================] - 0s 35us/step - loss: 0.4331 - accuracy: 0.8280 - val_loss: 0.6160 - val_accuracy: 0.7495\n",
      "Epoch 35/164\n",
      "3064/3064 [==============================] - 0s 35us/step - loss: 0.4255 - accuracy: 0.8267 - val_loss: 0.6112 - val_accuracy: 0.7681\n",
      "Epoch 36/164\n",
      "3064/3064 [==============================] - 0s 35us/step - loss: 0.4208 - accuracy: 0.8303 - val_loss: 0.6059 - val_accuracy: 0.7750\n",
      "Epoch 37/164\n",
      "3064/3064 [==============================] - 0s 35us/step - loss: 0.4163 - accuracy: 0.8371 - val_loss: 0.6359 - val_accuracy: 0.7603\n",
      "Epoch 38/164\n",
      "3064/3064 [==============================] - 0s 35us/step - loss: 0.4124 - accuracy: 0.8407 - val_loss: 0.6192 - val_accuracy: 0.7622\n",
      "Epoch 39/164\n",
      "3064/3064 [==============================] - 0s 33us/step - loss: 0.4010 - accuracy: 0.8440 - val_loss: 0.5830 - val_accuracy: 0.7759\n",
      "Epoch 40/164\n",
      "3064/3064 [==============================] - 0s 34us/step - loss: 0.4046 - accuracy: 0.8358 - val_loss: 0.5754 - val_accuracy: 0.7750\n",
      "Epoch 41/164\n",
      "3064/3064 [==============================] - 0s 34us/step - loss: 0.3939 - accuracy: 0.8424 - val_loss: 0.5849 - val_accuracy: 0.7750\n",
      "Epoch 42/164\n",
      "3064/3064 [==============================] - 0s 33us/step - loss: 0.3918 - accuracy: 0.8499 - val_loss: 0.5768 - val_accuracy: 0.7681\n",
      "Epoch 43/164\n",
      "3064/3064 [==============================] - 0s 33us/step - loss: 0.3908 - accuracy: 0.8469 - val_loss: 0.5767 - val_accuracy: 0.7808\n",
      "Epoch 44/164\n",
      "3064/3064 [==============================] - 0s 32us/step - loss: 0.3793 - accuracy: 0.8518 - val_loss: 0.5738 - val_accuracy: 0.7818\n",
      "Epoch 45/164\n",
      "3064/3064 [==============================] - 0s 34us/step - loss: 0.3779 - accuracy: 0.8541 - val_loss: 0.5680 - val_accuracy: 0.7740\n",
      "Epoch 46/164\n",
      "3064/3064 [==============================] - 0s 33us/step - loss: 0.3703 - accuracy: 0.8570 - val_loss: 0.5693 - val_accuracy: 0.7759\n",
      "Epoch 47/164\n",
      "3064/3064 [==============================] - 0s 34us/step - loss: 0.3684 - accuracy: 0.8554 - val_loss: 0.5742 - val_accuracy: 0.7828\n",
      "Epoch 48/164\n",
      "3064/3064 [==============================] - 0s 34us/step - loss: 0.3614 - accuracy: 0.8580 - val_loss: 0.5724 - val_accuracy: 0.7926\n",
      "Epoch 49/164\n",
      "3064/3064 [==============================] - 0s 34us/step - loss: 0.3604 - accuracy: 0.8600 - val_loss: 0.5644 - val_accuracy: 0.7886\n",
      "Epoch 50/164\n",
      "3064/3064 [==============================] - 0s 35us/step - loss: 0.3532 - accuracy: 0.8616 - val_loss: 0.5599 - val_accuracy: 0.7828\n",
      "Epoch 51/164\n",
      "3064/3064 [==============================] - 0s 33us/step - loss: 0.3480 - accuracy: 0.8655 - val_loss: 0.5775 - val_accuracy: 0.7886\n",
      "Epoch 52/164\n",
      "3064/3064 [==============================] - 0s 34us/step - loss: 0.3462 - accuracy: 0.8662 - val_loss: 0.5841 - val_accuracy: 0.7798\n",
      "Epoch 53/164\n",
      "3064/3064 [==============================] - 0s 34us/step - loss: 0.3406 - accuracy: 0.8688 - val_loss: 0.5562 - val_accuracy: 0.7857\n",
      "Epoch 54/164\n",
      "3064/3064 [==============================] - 0s 34us/step - loss: 0.3380 - accuracy: 0.8704 - val_loss: 0.5623 - val_accuracy: 0.7877\n"
     ]
    },
    {
     "name": "stdout",
     "output_type": "stream",
     "text": [
      "Epoch 55/164\n",
      "3064/3064 [==============================] - 0s 35us/step - loss: 0.3335 - accuracy: 0.8714 - val_loss: 0.5379 - val_accuracy: 0.7916\n",
      "Epoch 56/164\n",
      "3064/3064 [==============================] - 0s 34us/step - loss: 0.3280 - accuracy: 0.8727 - val_loss: 0.5519 - val_accuracy: 0.7877\n",
      "Epoch 57/164\n",
      "3064/3064 [==============================] - 0s 34us/step - loss: 0.3268 - accuracy: 0.8688 - val_loss: 0.5618 - val_accuracy: 0.7955\n",
      "Epoch 58/164\n",
      "3064/3064 [==============================] - 0s 34us/step - loss: 0.3244 - accuracy: 0.8773 - val_loss: 0.5753 - val_accuracy: 0.7710\n",
      "Epoch 59/164\n",
      "3064/3064 [==============================] - 0s 34us/step - loss: 0.3216 - accuracy: 0.8763 - val_loss: 0.5547 - val_accuracy: 0.8004\n",
      "Epoch 60/164\n",
      "3064/3064 [==============================] - 0s 37us/step - loss: 0.3183 - accuracy: 0.8747 - val_loss: 0.5468 - val_accuracy: 0.7945\n",
      "Epoch 61/164\n",
      "3064/3064 [==============================] - 0s 34us/step - loss: 0.3153 - accuracy: 0.8750 - val_loss: 0.5579 - val_accuracy: 0.7955\n",
      "Epoch 62/164\n",
      "3064/3064 [==============================] - 0s 35us/step - loss: 0.3051 - accuracy: 0.8858 - val_loss: 0.5673 - val_accuracy: 0.7955\n",
      "Epoch 63/164\n",
      "3064/3064 [==============================] - 0s 35us/step - loss: 0.3131 - accuracy: 0.8792 - val_loss: 0.5438 - val_accuracy: 0.8043\n",
      "Epoch 64/164\n",
      "3064/3064 [==============================] - 0s 34us/step - loss: 0.3003 - accuracy: 0.8815 - val_loss: 0.5507 - val_accuracy: 0.7984\n",
      "Epoch 65/164\n",
      "3064/3064 [==============================] - 0s 34us/step - loss: 0.2979 - accuracy: 0.8802 - val_loss: 0.5620 - val_accuracy: 0.8004\n",
      "Epoch 66/164\n",
      "3064/3064 [==============================] - 0s 34us/step - loss: 0.2948 - accuracy: 0.8851 - val_loss: 0.5464 - val_accuracy: 0.8004\n",
      "Epoch 67/164\n",
      "3064/3064 [==============================] - 0s 35us/step - loss: 0.2988 - accuracy: 0.8825 - val_loss: 0.5754 - val_accuracy: 0.7975\n",
      "Epoch 68/164\n",
      "3064/3064 [==============================] - 0s 34us/step - loss: 0.2914 - accuracy: 0.8900 - val_loss: 0.5429 - val_accuracy: 0.8004\n",
      "Epoch 69/164\n",
      "3064/3064 [==============================] - 0s 35us/step - loss: 0.2820 - accuracy: 0.8930 - val_loss: 0.5426 - val_accuracy: 0.7984\n",
      "Epoch 70/164\n",
      "3064/3064 [==============================] - 0s 34us/step - loss: 0.2885 - accuracy: 0.8897 - val_loss: 0.5373 - val_accuracy: 0.8004\n",
      "Epoch 71/164\n",
      "3064/3064 [==============================] - 0s 35us/step - loss: 0.2757 - accuracy: 0.8962 - val_loss: 0.5487 - val_accuracy: 0.8014\n",
      "Epoch 72/164\n",
      "3064/3064 [==============================] - 0s 34us/step - loss: 0.2782 - accuracy: 0.8962 - val_loss: 0.5961 - val_accuracy: 0.7906\n",
      "Epoch 73/164\n",
      "3064/3064 [==============================] - 0s 35us/step - loss: 0.2901 - accuracy: 0.8887 - val_loss: 0.5497 - val_accuracy: 0.7877\n",
      "Epoch 74/164\n",
      "3064/3064 [==============================] - 0s 36us/step - loss: 0.2732 - accuracy: 0.8952 - val_loss: 0.5535 - val_accuracy: 0.8033\n",
      "Epoch 75/164\n",
      "3064/3064 [==============================] - 0s 35us/step - loss: 0.2751 - accuracy: 0.8890 - val_loss: 0.5394 - val_accuracy: 0.8033\n",
      "Epoch 76/164\n",
      "3064/3064 [==============================] - 0s 36us/step - loss: 0.2610 - accuracy: 0.9031 - val_loss: 0.5573 - val_accuracy: 0.7994\n",
      "Epoch 77/164\n",
      "3064/3064 [==============================] - 0s 36us/step - loss: 0.2620 - accuracy: 0.8998 - val_loss: 0.5548 - val_accuracy: 0.8160\n",
      "Epoch 78/164\n",
      "3064/3064 [==============================] - 0s 35us/step - loss: 0.2624 - accuracy: 0.9027 - val_loss: 0.5546 - val_accuracy: 0.8043\n",
      "Epoch 79/164\n",
      "3064/3064 [==============================] - 0s 35us/step - loss: 0.2623 - accuracy: 0.9011 - val_loss: 0.5559 - val_accuracy: 0.8112\n",
      "Epoch 80/164\n",
      "3064/3064 [==============================] - 0s 35us/step - loss: 0.2632 - accuracy: 0.9005 - val_loss: 0.5695 - val_accuracy: 0.8004\n",
      "Epoch 81/164\n",
      "3064/3064 [==============================] - 0s 35us/step - loss: 0.2527 - accuracy: 0.9037 - val_loss: 0.5789 - val_accuracy: 0.8063\n",
      "Epoch 82/164\n",
      "3064/3064 [==============================] - 0s 35us/step - loss: 0.2566 - accuracy: 0.9031 - val_loss: 0.5458 - val_accuracy: 0.8121\n",
      "Epoch 83/164\n",
      "3064/3064 [==============================] - 0s 35us/step - loss: 0.2475 - accuracy: 0.9080 - val_loss: 0.5510 - val_accuracy: 0.8023\n",
      "Epoch 84/164\n",
      "3064/3064 [==============================] - 0s 35us/step - loss: 0.2500 - accuracy: 0.9057 - val_loss: 0.5756 - val_accuracy: 0.7975\n",
      "Epoch 85/164\n",
      "3064/3064 [==============================] - 0s 35us/step - loss: 0.2431 - accuracy: 0.9031 - val_loss: 0.5615 - val_accuracy: 0.8219\n",
      "Epoch 86/164\n",
      "3064/3064 [==============================] - 0s 36us/step - loss: 0.2405 - accuracy: 0.9135 - val_loss: 0.5427 - val_accuracy: 0.8229\n",
      "Epoch 87/164\n",
      "3064/3064 [==============================] - 0s 35us/step - loss: 0.2432 - accuracy: 0.9063 - val_loss: 0.5870 - val_accuracy: 0.8053\n",
      "Epoch 88/164\n",
      "3064/3064 [==============================] - 0s 35us/step - loss: 0.2318 - accuracy: 0.9125 - val_loss: 0.5629 - val_accuracy: 0.8072\n",
      "Epoch 89/164\n",
      "3064/3064 [==============================] - 0s 36us/step - loss: 0.2307 - accuracy: 0.9138 - val_loss: 0.5639 - val_accuracy: 0.8023\n",
      "Epoch 90/164\n",
      "3064/3064 [==============================] - 0s 35us/step - loss: 0.2300 - accuracy: 0.9138 - val_loss: 0.5997 - val_accuracy: 0.7975\n",
      "Epoch 91/164\n",
      "3064/3064 [==============================] - 0s 35us/step - loss: 0.2265 - accuracy: 0.9168 - val_loss: 0.5939 - val_accuracy: 0.8102\n",
      "Epoch 92/164\n",
      "3064/3064 [==============================] - 0s 35us/step - loss: 0.2233 - accuracy: 0.9151 - val_loss: 0.5595 - val_accuracy: 0.8151\n",
      "Epoch 93/164\n",
      "3064/3064 [==============================] - 0s 35us/step - loss: 0.2257 - accuracy: 0.9158 - val_loss: 0.5846 - val_accuracy: 0.8072\n",
      "Epoch 94/164\n",
      "3064/3064 [==============================] - 0s 36us/step - loss: 0.2203 - accuracy: 0.9178 - val_loss: 0.5765 - val_accuracy: 0.8072\n",
      "Epoch 95/164\n",
      "3064/3064 [==============================] - 0s 35us/step - loss: 0.2248 - accuracy: 0.9164 - val_loss: 0.5677 - val_accuracy: 0.8121\n",
      "Epoch 96/164\n",
      "3064/3064 [==============================] - 0s 42us/step - loss: 0.2151 - accuracy: 0.9181 - val_loss: 0.5917 - val_accuracy: 0.8033\n",
      "Epoch 97/164\n",
      "3064/3064 [==============================] - 0s 37us/step - loss: 0.2154 - accuracy: 0.9168 - val_loss: 0.5827 - val_accuracy: 0.8063\n",
      "Epoch 98/164\n",
      "3064/3064 [==============================] - 0s 35us/step - loss: 0.2061 - accuracy: 0.9243 - val_loss: 0.5917 - val_accuracy: 0.8063\n",
      "Epoch 99/164\n",
      "3064/3064 [==============================] - 0s 34us/step - loss: 0.2139 - accuracy: 0.9187 - val_loss: 0.5875 - val_accuracy: 0.8063\n",
      "Epoch 100/164\n",
      "3064/3064 [==============================] - 0s 35us/step - loss: 0.2069 - accuracy: 0.9233 - val_loss: 0.5799 - val_accuracy: 0.8209\n",
      "Epoch 101/164\n",
      "3064/3064 [==============================] - 0s 35us/step - loss: 0.2103 - accuracy: 0.9217 - val_loss: 0.6121 - val_accuracy: 0.8131\n",
      "Epoch 102/164\n",
      "3064/3064 [==============================] - 0s 35us/step - loss: 0.2044 - accuracy: 0.9236 - val_loss: 0.6203 - val_accuracy: 0.8033\n",
      "Epoch 103/164\n",
      "3064/3064 [==============================] - 0s 36us/step - loss: 0.1989 - accuracy: 0.9269 - val_loss: 0.5846 - val_accuracy: 0.8082\n",
      "Epoch 104/164\n",
      "3064/3064 [==============================] - 0s 35us/step - loss: 0.2016 - accuracy: 0.9292 - val_loss: 0.6084 - val_accuracy: 0.8092\n",
      "Epoch 105/164\n",
      "3064/3064 [==============================] - 0s 36us/step - loss: 0.2003 - accuracy: 0.9243 - val_loss: 0.6025 - val_accuracy: 0.8121\n",
      "Epoch 106/164\n",
      "3064/3064 [==============================] - 0s 38us/step - loss: 0.1948 - accuracy: 0.9266 - val_loss: 0.6179 - val_accuracy: 0.8082\n",
      "Epoch 107/164\n",
      "3064/3064 [==============================] - 0s 35us/step - loss: 0.1889 - accuracy: 0.9308 - val_loss: 0.6068 - val_accuracy: 0.8160\n",
      "Epoch 108/164\n",
      "3064/3064 [==============================] - 0s 35us/step - loss: 0.1924 - accuracy: 0.9282 - val_loss: 0.6308 - val_accuracy: 0.8063\n",
      "Epoch 109/164\n",
      "3064/3064 [==============================] - 0s 35us/step - loss: 0.1993 - accuracy: 0.9246 - val_loss: 0.6194 - val_accuracy: 0.8151\n",
      "Epoch 110/164\n"
     ]
    },
    {
     "name": "stdout",
     "output_type": "stream",
     "text": [
      "3064/3064 [==============================] - 0s 35us/step - loss: 0.1897 - accuracy: 0.9298 - val_loss: 0.6407 - val_accuracy: 0.8063\n",
      "Epoch 111/164\n",
      "3064/3064 [==============================] - 0s 35us/step - loss: 0.1871 - accuracy: 0.9289 - val_loss: 0.6466 - val_accuracy: 0.8112\n",
      "Epoch 112/164\n",
      "3064/3064 [==============================] - 0s 38us/step - loss: 0.1799 - accuracy: 0.9393 - val_loss: 0.6194 - val_accuracy: 0.8063\n",
      "Epoch 113/164\n",
      "3064/3064 [==============================] - 0s 35us/step - loss: 0.1801 - accuracy: 0.9351 - val_loss: 0.6392 - val_accuracy: 0.8121\n",
      "Epoch 114/164\n",
      "3064/3064 [==============================] - 0s 35us/step - loss: 0.1809 - accuracy: 0.9311 - val_loss: 0.6273 - val_accuracy: 0.8102\n",
      "Epoch 115/164\n",
      "3064/3064 [==============================] - 0s 35us/step - loss: 0.1735 - accuracy: 0.9354 - val_loss: 0.6427 - val_accuracy: 0.8170\n",
      "Epoch 116/164\n",
      "3064/3064 [==============================] - 0s 36us/step - loss: 0.1737 - accuracy: 0.9399 - val_loss: 0.6419 - val_accuracy: 0.8082\n",
      "Epoch 117/164\n",
      "3064/3064 [==============================] - 0s 36us/step - loss: 0.1661 - accuracy: 0.9403 - val_loss: 0.6552 - val_accuracy: 0.8151\n",
      "Epoch 118/164\n",
      "3064/3064 [==============================] - 0s 35us/step - loss: 0.1689 - accuracy: 0.9448 - val_loss: 0.6359 - val_accuracy: 0.8112\n",
      "Epoch 119/164\n",
      "3064/3064 [==============================] - 0s 35us/step - loss: 0.1830 - accuracy: 0.9364 - val_loss: 0.6802 - val_accuracy: 0.8121\n",
      "Epoch 120/164\n",
      "3064/3064 [==============================] - 0s 35us/step - loss: 0.1716 - accuracy: 0.9377 - val_loss: 0.6361 - val_accuracy: 0.8160\n",
      "Epoch 121/164\n",
      "3064/3064 [==============================] - 0s 36us/step - loss: 0.1616 - accuracy: 0.9429 - val_loss: 0.6386 - val_accuracy: 0.8131\n",
      "Epoch 122/164\n",
      "3064/3064 [==============================] - 0s 36us/step - loss: 0.1579 - accuracy: 0.9488 - val_loss: 0.6539 - val_accuracy: 0.8141\n",
      "Epoch 123/164\n",
      "3064/3064 [==============================] - 0s 35us/step - loss: 0.1616 - accuracy: 0.9452 - val_loss: 0.6646 - val_accuracy: 0.8102\n",
      "Epoch 124/164\n",
      "3064/3064 [==============================] - 0s 35us/step - loss: 0.1589 - accuracy: 0.9435 - val_loss: 0.6860 - val_accuracy: 0.8082\n",
      "Epoch 125/164\n",
      "3064/3064 [==============================] - 0s 35us/step - loss: 0.1646 - accuracy: 0.9439 - val_loss: 0.6630 - val_accuracy: 0.8131\n",
      "Epoch 126/164\n",
      "3064/3064 [==============================] - 0s 35us/step - loss: 0.1581 - accuracy: 0.9435 - val_loss: 0.6717 - val_accuracy: 0.8053\n",
      "Epoch 127/164\n",
      "3064/3064 [==============================] - 0s 35us/step - loss: 0.1574 - accuracy: 0.9458 - val_loss: 0.6881 - val_accuracy: 0.8239\n",
      "Epoch 128/164\n",
      "3064/3064 [==============================] - 0s 35us/step - loss: 0.1613 - accuracy: 0.9426 - val_loss: 0.6960 - val_accuracy: 0.8121\n",
      "Epoch 129/164\n",
      "3064/3064 [==============================] - 0s 35us/step - loss: 0.1601 - accuracy: 0.9426 - val_loss: 0.6764 - val_accuracy: 0.8180\n",
      "Epoch 130/164\n",
      "3064/3064 [==============================] - 0s 35us/step - loss: 0.1454 - accuracy: 0.9504 - val_loss: 0.7061 - val_accuracy: 0.8004\n",
      "Epoch 131/164\n",
      "3064/3064 [==============================] - 0s 35us/step - loss: 0.1488 - accuracy: 0.9523 - val_loss: 0.6985 - val_accuracy: 0.8102\n",
      "Epoch 132/164\n",
      "3064/3064 [==============================] - 0s 36us/step - loss: 0.1560 - accuracy: 0.9445 - val_loss: 0.6814 - val_accuracy: 0.8131\n",
      "Epoch 133/164\n",
      "3064/3064 [==============================] - 0s 35us/step - loss: 0.1448 - accuracy: 0.9520 - val_loss: 0.6800 - val_accuracy: 0.8170\n",
      "Epoch 134/164\n",
      "3064/3064 [==============================] - 0s 35us/step - loss: 0.1545 - accuracy: 0.9478 - val_loss: 0.7103 - val_accuracy: 0.8082\n",
      "Epoch 135/164\n",
      "3064/3064 [==============================] - 0s 35us/step - loss: 0.1450 - accuracy: 0.9523 - val_loss: 0.7673 - val_accuracy: 0.8180\n",
      "Epoch 136/164\n",
      "3064/3064 [==============================] - 0s 35us/step - loss: 0.1493 - accuracy: 0.9530 - val_loss: 0.7042 - val_accuracy: 0.8141\n",
      "Epoch 137/164\n",
      "3064/3064 [==============================] - 0s 36us/step - loss: 0.1463 - accuracy: 0.9478 - val_loss: 0.7048 - val_accuracy: 0.8141\n",
      "Epoch 138/164\n",
      "3064/3064 [==============================] - 0s 35us/step - loss: 0.1409 - accuracy: 0.9533 - val_loss: 0.7407 - val_accuracy: 0.8190\n",
      "Epoch 139/164\n",
      "3064/3064 [==============================] - 0s 35us/step - loss: 0.1372 - accuracy: 0.9517 - val_loss: 0.7365 - val_accuracy: 0.8160\n",
      "Epoch 140/164\n",
      "3064/3064 [==============================] - 0s 35us/step - loss: 0.1409 - accuracy: 0.9507 - val_loss: 0.7111 - val_accuracy: 0.8141\n",
      "Epoch 141/164\n",
      "3064/3064 [==============================] - 0s 35us/step - loss: 0.1315 - accuracy: 0.9550 - val_loss: 0.7203 - val_accuracy: 0.8141\n",
      "Epoch 142/164\n",
      "3064/3064 [==============================] - 0s 35us/step - loss: 0.1331 - accuracy: 0.9543 - val_loss: 0.7538 - val_accuracy: 0.8170\n",
      "Epoch 143/164\n",
      "3064/3064 [==============================] - 0s 35us/step - loss: 0.1375 - accuracy: 0.9540 - val_loss: 0.7261 - val_accuracy: 0.8200\n",
      "Epoch 144/164\n",
      "3064/3064 [==============================] - 0s 35us/step - loss: 0.1280 - accuracy: 0.9566 - val_loss: 0.7408 - val_accuracy: 0.8200\n",
      "Epoch 145/164\n",
      "3064/3064 [==============================] - 0s 35us/step - loss: 0.1327 - accuracy: 0.9537 - val_loss: 0.7373 - val_accuracy: 0.8112\n",
      "Epoch 146/164\n",
      "3064/3064 [==============================] - 0s 36us/step - loss: 0.1316 - accuracy: 0.9540 - val_loss: 0.7459 - val_accuracy: 0.8229\n",
      "Epoch 147/164\n",
      "3064/3064 [==============================] - 0s 35us/step - loss: 0.1355 - accuracy: 0.9507 - val_loss: 0.7612 - val_accuracy: 0.8180\n",
      "Epoch 148/164\n",
      "3064/3064 [==============================] - 0s 35us/step - loss: 0.1332 - accuracy: 0.9563 - val_loss: 0.7500 - val_accuracy: 0.8160\n",
      "Epoch 149/164\n",
      "3064/3064 [==============================] - 0s 35us/step - loss: 0.1253 - accuracy: 0.9579 - val_loss: 0.7462 - val_accuracy: 0.8190\n",
      "Epoch 150/164\n",
      "3064/3064 [==============================] - 0s 35us/step - loss: 0.1241 - accuracy: 0.9563 - val_loss: 0.7719 - val_accuracy: 0.8121\n",
      "Epoch 151/164\n",
      "3064/3064 [==============================] - 0s 38us/step - loss: 0.1232 - accuracy: 0.9589 - val_loss: 0.7949 - val_accuracy: 0.8072\n",
      "Epoch 152/164\n",
      "3064/3064 [==============================] - 0s 35us/step - loss: 0.1192 - accuracy: 0.9589 - val_loss: 0.7534 - val_accuracy: 0.8219\n",
      "Epoch 153/164\n",
      "3064/3064 [==============================] - 0s 35us/step - loss: 0.1235 - accuracy: 0.9576 - val_loss: 0.7785 - val_accuracy: 0.8200\n",
      "Epoch 154/164\n",
      "3064/3064 [==============================] - 0s 37us/step - loss: 0.1153 - accuracy: 0.9625 - val_loss: 0.7864 - val_accuracy: 0.8112\n",
      "Epoch 155/164\n",
      "3064/3064 [==============================] - 0s 35us/step - loss: 0.1270 - accuracy: 0.9556 - val_loss: 0.7640 - val_accuracy: 0.8053\n",
      "Epoch 156/164\n",
      "3064/3064 [==============================] - 0s 36us/step - loss: 0.1240 - accuracy: 0.9563 - val_loss: 0.7325 - val_accuracy: 0.8170\n",
      "Epoch 157/164\n",
      "3064/3064 [==============================] - 0s 35us/step - loss: 0.1203 - accuracy: 0.9612 - val_loss: 0.7917 - val_accuracy: 0.8151\n",
      "Epoch 158/164\n",
      "3064/3064 [==============================] - 0s 35us/step - loss: 0.1174 - accuracy: 0.9615 - val_loss: 0.8367 - val_accuracy: 0.8053\n",
      "Epoch 159/164\n",
      "3064/3064 [==============================] - 0s 36us/step - loss: 0.1184 - accuracy: 0.9612 - val_loss: 0.8296 - val_accuracy: 0.8092\n",
      "Epoch 160/164\n",
      "3064/3064 [==============================] - 0s 35us/step - loss: 0.1296 - accuracy: 0.9540 - val_loss: 0.7789 - val_accuracy: 0.8151\n",
      "Epoch 161/164\n",
      "3064/3064 [==============================] - 0s 36us/step - loss: 0.1082 - accuracy: 0.9661 - val_loss: 0.8034 - val_accuracy: 0.8023\n",
      "Epoch 162/164\n",
      "3064/3064 [==============================] - 0s 35us/step - loss: 0.1060 - accuracy: 0.9641 - val_loss: 0.7903 - val_accuracy: 0.8160\n",
      "Epoch 163/164\n",
      "3064/3064 [==============================] - 0s 36us/step - loss: 0.1089 - accuracy: 0.9648 - val_loss: 0.7742 - val_accuracy: 0.8121\n",
      "Epoch 164/164\n",
      "3064/3064 [==============================] - 0s 35us/step - loss: 0.1052 - accuracy: 0.9696 - val_loss: 0.8110 - val_accuracy: 0.8180\n"
     ]
    }
   ],
   "source": [
    "history = model.fit(X_train, y_train, epochs=164, validation_data=(X_test, y_test))"
   ]
  },
  {
   "cell_type": "code",
   "execution_count": 12,
   "metadata": {
    "colab": {
     "base_uri": "https://localhost:8080/",
     "height": 51
    },
    "colab_type": "code",
    "id": "PLzTA6OUhaZ5",
    "outputId": "8208bcd7-4790-40c7-cde5-0680788db8c5"
   },
   "outputs": [
    {
     "name": "stdout",
     "output_type": "stream",
     "text": [
      "[[1.0714223e-10 9.8747861e-01 7.3001082e-03 5.2213580e-03 3.2300758e-08\n",
      "  0.0000000e+00]]\n"
     ]
    }
   ],
   "source": [
    "# make 1 particular prediction (IMPORTANT: always need to scale first)\n",
    "make_prediction = scaler.transform(np.array([[7.4,0.59,0.08,4.4,0.086,6,29,0.9974,3.38,0.5,9]]))\n",
    "predictions = model.predict(make_prediction)\n",
    "\n",
    "# devuelve array con probabilidades de pertenecer a cada clase\n",
    "print(predictions)"
   ]
  },
  {
   "cell_type": "code",
   "execution_count": 13,
   "metadata": {
    "colab": {
     "base_uri": "https://localhost:8080/",
     "height": 34
    },
    "colab_type": "code",
    "id": "HDoKuxJ8h2DZ",
    "outputId": "9e6b9fd7-00fb-4223-dc1a-4f5e926cfde7"
   },
   "outputs": [
    {
     "name": "stdout",
     "output_type": "stream",
     "text": [
      "Predicted class is: 4\n"
     ]
    }
   ],
   "source": [
    "# return the index with the higher value (probability)\n",
    "prediction = np.argmax(predictions)\n",
    "\n",
    "print('Predicted class is:', y_cat.columns[prediction])"
   ]
  },
  {
   "cell_type": "code",
   "execution_count": 14,
   "metadata": {},
   "outputs": [
    {
     "data": {
      "text/plain": [
       "(Text(33.0, 0.5, 'True Class'), Text(0.5, 15.0, 'Predicted Class'))"
      ]
     },
     "execution_count": 14,
     "metadata": {},
     "output_type": "execute_result"
    },
    {
     "data": {
      "image/png": "[encoded data removed]",
      "text/plain": [
       "<Figure size 432x288 with 1 Axes>"
      ]
     },
     "metadata": {
      "needs_background": "light"
     },
     "output_type": "display_data"
    }
   ],
   "source": [
    "# standarize original values\n",
    "X_standarized = scaler.transform(X)\n",
    "\n",
    "# predict values\n",
    "predictions = model.predict([X_standarized])\n",
    "\n",
    "# gets indexes with higher probabilty predicted in last step\n",
    "indexes = np.argmax(predictions, axis=1)\n",
    "\n",
    "# creates a list with the original target tags\n",
    "predicted_values = []\n",
    "for i in indexes:\n",
    "    predicted_values.append(y_cat.columns[i])\n",
    "\n",
    "# convert to pandas series\n",
    "predicted_values = pd.Series(predicted_values)\n",
    "\n",
    "# Create confusion matrix\n",
    "matrix = confusion_matrix(y, predicted_values)\n",
    "matrix = pd.DataFrame(matrix, index=y_cat.columns, columns=y_cat.columns)\n",
    "\n",
    "# Create heatmap\n",
    "sns.heatmap(matrix, annot=True, cbar=None, cmap=\"Blues\",fmt='g')\n",
    "plt.title(\"Confusion Matrix\"), plt.tight_layout()\n",
    "plt.ylabel(\"True Class\"), plt.xlabel(\"Predicted Class\")"
   ]
  },
  {
   "cell_type": "code",
   "execution_count": 15,
   "metadata": {},
   "outputs": [
    {
     "data": {
      "text/plain": [
       "Text(0, 0.5, 'Accuracy Score')"
      ]
     },
     "execution_count": 15,
     "metadata": {},
     "output_type": "execute_result"
    },
    {
     "data": {
      "image/png": "[encoded data removed]",
      "text/plain": [
       "<Figure size 432x288 with 1 Axes>"
      ]
     },
     "metadata": {
      "needs_background": "light"
     },
     "output_type": "display_data"
    }
   ],
   "source": [
    "training_accuracy = history.history[\"accuracy\"]\n",
    "test_accuracy = history.history[\"val_accuracy\"]\n",
    "\n",
    "# create count of the number of epochs\n",
    "epoch_count = range(1, len(training_accuracy) + 1)\n",
    "\n",
    "\n",
    "plt.plot(epoch_count, training_accuracy, \"r--\")\n",
    "plt.plot(epoch_count, test_accuracy, \"b-\")\n",
    "\n",
    "# visualize accuracy history\n",
    "plt.legend([\"Training Accuracy\", \"Test Accuracy\"])\n",
    "plt.xlabel(\"Epoch\")\n",
    "plt.ylabel(\"Accuracy Score\")"
   ]
  },
  {
   "cell_type": "code",
   "execution_count": 16,
   "metadata": {},
   "outputs": [
    {
     "name": "stdout",
     "output_type": "stream",
     "text": [
      "Training accuracy: 97.0 %\n",
      "Test accuracy: 81.8 %\n"
     ]
    }
   ],
   "source": [
    "print(f'Training accuracy: {round(training_accuracy[-1]*100,1)} %')\n",
    "print(f'Test accuracy: {round(test_accuracy[-1]*100,1)} %')"
   ]
  },
  {
   "cell_type": "code",
   "execution_count": 18,
   "metadata": {},
   "outputs": [],
   "source": [
    "# save neural network\n",
    "model.save(\"wine_model.h5\")"
   ]
  },
  {
   "cell_type": "markdown",
   "metadata": {},
   "source": [
    "# Conclusion"
   ]
  },
  {
   "cell_type": "markdown",
   "metadata": {},
   "source": [
    "A Neural Network model was implemented, consisting of 1 input layer, 2 hidden layers with 100 units each and 1 output layer with 1 unit per class (6 in total).\n",
    "\n",
    "The test accuracy is in the order of 80%. (81,8% for this particular seed)"
   ]
  }
 ],
 "metadata": {
  "colab": {
   "collapsed_sections": [],
   "name": "2-TensorFlow.ipynb",
   "provenance": [],
   "toc_visible": true
  },
  "kernelspec": {
   "display_name": "Python 3",
   "language": "python",
   "name": "python3"
  },
  "language_info": {
   "codemirror_mode": {
    "name": "ipython",
    "version": 3
   },
   "file_extension": ".py",
   "mimetype": "text/x-python",
   "name": "python",
   "nbconvert_exporter": "python",
   "pygments_lexer": "ipython3",
   "version": "3.7.6"
  }
 },
 "nbformat": 4,
 "nbformat_minor": 1
}
